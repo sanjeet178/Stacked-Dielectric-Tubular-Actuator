{
 "cells": [
  {
   "cell_type": "code",
   "execution_count": 1,
   "id": "90912357",
   "metadata": {},
   "outputs": [],
   "source": [
    "from scipy.optimize import fsolve\n",
    "from math import exp\n",
    "import math\n",
    "import matplotlib.pyplot as plt\n",
    "import numpy as np\n",
    "import pandas as pd"
   ]
  },
  {
   "cell_type": "code",
   "execution_count": 2,
   "id": "42b7bc25",
   "metadata": {},
   "outputs": [],
   "source": [
    "def f1_hookean(B,*data):\n",
    "    # This function is used for constant lambda-z\n",
    "    A, Ri, beta, Vbar,p = data\n",
    "    #eq = p+(1/2)*A*(math.log(A*Ri**2)+(A+B)**(-1)*(B+A*beta**2)**(-1)*(A*B+(-1)*A*B*beta**2+(-1)*(B**2+A**2*beta**2+A*B*(1+beta**2))*math.log((A+B)*Ri**2)+(-1)*(B**2+A**2*beta**2+A*B*(1+beta**2))*math.log(A*beta**2*Ri**2)+A*B*math.log((B+A*beta**2)*Ri**2)+B**2*math.log((B+A*beta**2)*Ri**2)+A**2*beta**2*math.log((B+A*beta**2)*Ri**2)+A*B*beta**2*math.log((B+A*beta**2)*Ri**2)+((-1)+beta)**3*(1+beta)*Vbar**2*math.log(((A+B)*Ri**2)**(-1/2)*((B+A*beta**2)*Ri**2)**(1/2))**(-2)))\n",
    "    eq = (A*Ri**2+B*Ri**2)**(-1)*(A**2*Ri**2+(Ri+(-1)*beta*Ri)**2*Vbar**2*math.log((A*Ri**2+B*Ri**2)**(-1/2)*(B*Ri**2+A*beta**2*Ri**2)**(1/2))**(-2))+(-1)*(B*Ri**2+A*beta**2*Ri**2)**(-1)*(A**2*beta**2*Ri**2+(Ri+(-1)*beta*Ri)**2*Vbar**2*math.log((A*Ri**2+B*Ri**2)**(-1/2)*(B*Ri**2+A*beta**2*Ri**2)**(1/2))**(-2))+(-1/2)*(A*Ri**2+B*Ri**2)**(-1)*((-1)*A*(B*Ri**2+(A*Ri**2+B*Ri**2)*math.log(A*Ri**2))+2*A*(A*Ri**2+B*Ri**2)*math.log((A*Ri**2+B*Ri**2)**(1/2))+(Ri+(-1)*beta*Ri)**2*Vbar**2*math.log((A*Ri**2+B*Ri**2)**(-1/2)*(B*Ri**2+A*beta**2*Ri**2)**(1/2))**(-2))+(1/2)*(B*Ri**2+A*beta**2*Ri**2)**(-1)*((-1)*A*(B*Ri**2+(B*Ri**2+A*beta**2*Ri**2)*math.log(A*beta**2*Ri**2))+2*A*(B*Ri**2+A*beta**2*Ri**2)*math.log((B*Ri**2+A*beta**2*Ri**2)**(1/2))+(Ri+(-1)*beta*Ri)**2*Vbar**2*math.log((A*Ri**2+B*Ri**2)**(-1/2)*(B*Ri**2+A*beta**2*Ri**2)**(1/2))**(-2)) + p\n",
    "    return eq"
   ]
  },
  {
   "cell_type": "code",
   "execution_count": 8,
   "id": "759d3e58",
   "metadata": {
    "scrolled": true
   },
   "outputs": [
    {
     "name": "stdout",
     "output_type": "stream",
     "text": [
      "1.5\n"
     ]
    },
    {
     "data": {
      "text/plain": [
       "Text(0.5, 1.0, 'Fixed Tube')"
      ]
     },
     "execution_count": 8,
     "metadata": {},
     "output_type": "execute_result"
    },
    {
     "data": {
      "image/png": "[encoded data removed]",
      "text/plain": [
       "<Figure size 432x288 with 1 Axes>"
      ]
     },
     "metadata": {
      "needs_background": "light"
     },
     "output_type": "display_data"
    }
   ],
   "source": [
    "B_store = []\n",
    "V_store = []\n",
    "A_store = []\n",
    "outer_lambda = []\n",
    "co = []\n",
    "\n",
    "Ri = 10\n",
    "beta = 1.95\n",
    "Ro = beta*Ri\n",
    "A = 2/3\n",
    "lambdaz = 1/A\n",
    "print(lambdaz)\n",
    "B_guess = 0.001 \n",
    "\n",
    "p = 0\n",
    "\n",
    "start = 0\n",
    "end = 0.65\n",
    "\n",
    "step_size = 0.001\n",
    "\n",
    "for Vbar in np.arange(start, end, step_size):\n",
    "    V_store.append(Vbar)\n",
    "    data = (A,Ri, beta, Vbar,p)\n",
    "    B = fsolve(f1_hookean, [B_guess], args=data)\n",
    "    B_store.append(B[0])\n",
    "    B = B_store[-1]\n",
    "    A_store.append(A)\n",
    "    outer_lambda.append(math.sqrt(A_store[-1]*beta**2+B_store[-1])/beta)\n",
    "    #co_cal = (1/2)*(B+A*beta**2)**(-1)*(A*(B+2*A*beta**2+(B+A*beta**2)*math.log(A*beta**2*Ri**2)+(-1)*(B+A*beta**2)*math.log((B+A*beta**2)*Ri**2))+((-1)+beta)**2*Vbar**2*math.log(((A+B)*Ri**2)**(-1/2)*((B+A*beta**2)*Ri**2)**(1/2))**(-2))\n",
    "    co_cal = (B*Ri**2+A*Ro**2)**(-1)*(A**2*Ro**2+(Ri+(-1)*Ro)**2*Vbar**2*math.log((A*Ri**2+B*Ri**2)**(-1/2)*(B*Ri**2+A*Ro**2)**(1/2))**(-2))+(-1/2)*(B*Ri**2+A*Ro**2)**(-1)*((-1)*A*(B*Ri**2+(B*Ri**2+A*Ro**2)*math.log(A*Ro**2))+2*A*(B*Ri**2+A*Ro**2)*math.log((B*Ri**2+A*Ro**2)**(1/2))+(Ri+(-1)*Ro)**2*Vbar**2*math.log((A*Ri**2+B*Ri**2)**(-1/2)*(B*Ri**2+A*Ro**2)**(1/2))**(-2))   \n",
    "    co.append(co_cal)\n",
    "    B_guess = B\n",
    "    \n",
    "\n",
    "plt.plot(outer_lambda,V_store)\n",
    "plt.xlabel('outer_lambda')\n",
    "plt.ylabel('Voltage')\n",
    "plt.title('Fixed Tube')"
   ]
  },
  {
   "cell_type": "code",
   "execution_count": 80,
   "id": "626c967d",
   "metadata": {},
   "outputs": [
    {
     "name": "stdout",
     "output_type": "stream",
     "text": [
      "final_10mm_12.5mm_lambdaz_1.5_pressure_0.05.xlsx\n"
     ]
    }
   ],
   "source": [
    "final = pd.DataFrame(list(zip(A_store, B_store, outer_lambda, V_store, co)),columns =['Normalised_A', 'Normalised_B', 'Outer Lambda', 'Voltage', 'co'])\n",
    "final\n",
    "s1 = \"final_10mm_\"\n",
    "s2 = str(Ro)\n",
    "s3 = \"mm_lambdaz_\"\n",
    "s4 = str(lambdaz)\n",
    "s5 = \"_pressure_\"\n",
    "s6 = str(p)\n",
    "s7 = \".xlsx\"\n",
    "print(s1+s2+s3+s4+s5+s6+s7)\n",
    "final.to_excel(s1+s2+s3+s4+s5+s6+s7)"
   ]
  },
  {
   "cell_type": "code",
   "execution_count": null,
   "id": "d98050c3",
   "metadata": {},
   "outputs": [],
   "source": [
    "# (1/2)*(B+A*beta**2)**(-1)*(A*(B+2*A*beta**2+(B+A*beta**2)*math.log(A*beta**2*Ri**2)+(-1)*(B+A*beta**2)*math.log((B+A*beta**2)*Ri**2))+((-1)+beta)**2*Vbar**2*math.log(((A+B)*Ri**2)**(-1/2)*((B+A*beta**2)*Ri**2)**(1/2))**(-2))"
   ]
  },
  {
   "cell_type": "code",
   "execution_count": null,
   "id": "b17b9534",
   "metadata": {},
   "outputs": [],
   "source": [
    "# (A*Ri**2+B*Ri**2)**(-1)*(A**2*Ri**2+(Ri+(-1)*beta*Ri)**2*Vbar**2*math.log((A*Ri**2+B*Ri**2)**(-1/2)*(B*Ri**2+A*beta**2*Ri**2)**(1/2))**(-2))+(-1)*(B*Ri**2+A*beta**2*Ri**2)**(-1)*(A**2*beta**2*Ri**2+(Ri+(-1)*beta*Ri)**2*Vbar**2*math.log((A*Ri**2+B*Ri**2)**(-1/2)*(B*Ri**2+A*beta**2*Ri**2)**(1/2))**(-2))+(-1/2)*(A*Ri**2+B*Ri**2)**(-1)*((-1)*A*(B*Ri**2+(A*Ri**2+B*Ri**2)*math.log(A*Ri**2))+2*A*(A*Ri**2+B*Ri**2)*math.log((A*Ri**2+B*Ri**2)**(1/2))+(Ri+(-1)*beta*Ri)**2*Vbar**2*math.log((A*Ri**2+B*Ri**2)**(-1/2)*(B*Ri**2+A*beta**2*Ri**2)**(1/2))**(-2))+(1/2)*(B*Ri**2+A*beta**2*Ri**2)**(-1)*((-1)*A*(B*Ri**2+(B*Ri**2+A*beta**2*Ri**2)*math.log(A*beta**2*Ri**2))+2*A*(B*Ri**2+A*beta**2*Ri**2)*math.log((B*Ri**2+A*beta**2*Ri**2)**(1/2))+(Ri+(-1)*beta*Ri)**2*Vbar**2*math.log((A*Ri**2+B*Ri**2)**(-1/2)*(B*Ri**2+A*beta**2*Ri**2)**(1/2))**(-2))"
   ]
  }
 ],
 "metadata": {
  "kernelspec": {
   "display_name": "Python 3 (ipykernel)",
   "language": "python",
   "name": "python3"
  },
  "language_info": {
   "codemirror_mode": {
    "name": "ipython",
    "version": 3
   },
   "file_extension": ".py",
   "mimetype": "text/x-python",
   "name": "python",
   "nbconvert_exporter": "python",
   "pygments_lexer": "ipython3",
   "version": "3.9.5"
  }
 },
 "nbformat": 4,
 "nbformat_minor": 5
}
